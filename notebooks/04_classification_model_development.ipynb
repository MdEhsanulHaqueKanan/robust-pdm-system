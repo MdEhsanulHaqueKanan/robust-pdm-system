{
 "cells": [
  {
   "cell_type": "code",
   "execution_count": 1,
   "id": "9cf5f6db-3e12-4958-ae01-fc5aeb3fa9d3",
   "metadata": {},
   "outputs": [
    {
     "name": "stdout",
     "output_type": "stream",
     "text": [
      "Requirement already satisfied: lightgbm in g:\\anaconda3\\lib\\site-packages (4.6.0)\n",
      "Requirement already satisfied: numpy>=1.17.0 in g:\\anaconda3\\lib\\site-packages (from lightgbm) (1.26.4)\n",
      "Requirement already satisfied: scipy in g:\\anaconda3\\lib\\site-packages (from lightgbm) (1.13.1)\n"
     ]
    }
   ],
   "source": [
    "!pip install lightgbm"
   ]
  },
  {
   "cell_type": "code",
   "execution_count": null,
   "id": "a34c820f-94dd-4203-94cf-923ceb0c3321",
   "metadata": {},
   "outputs": [],
   "source": [
    "!pip install --upgrade scikit-learn imbalanced-learn"
   ]
  },
  {
   "cell_type": "code",
   "execution_count": 2,
   "id": "43efc164-3a57-4230-a5ab-3330ef4770c1",
   "metadata": {},
   "outputs": [],
   "source": [
    "import pandas as pd\n",
    "import numpy as np\n",
    "import lightgbm as lgb\n",
    "from sklearn.model_selection import train_test_split\n",
    "from sklearn.preprocessing import StandardScaler, OneHotEncoder\n",
    "from sklearn.compose import ColumnTransformer\n",
    "from sklearn.pipeline import Pipeline\n",
    "from sklearn.metrics import classification_report, confusion_matrix, ConfusionMatrixDisplay\n",
    "from imblearn.over_sampling import SMOTE\n",
    "import matplotlib.pyplot as plt\n",
    "import seaborn as sns"
   ]
  },
  {
   "cell_type": "code",
   "execution_count": 3,
   "id": "4fa66a49-0dc3-400d-920a-4d5bd14b745e",
   "metadata": {},
   "outputs": [
    {
     "name": "stdout",
     "output_type": "stream",
     "text": [
      "Shape of X: (10000, 6)\n",
      "Shape of y: (10000,)\n",
      "\n",
      "Target Class Distribution:\n",
      "failure_type\n",
      "No Failure                  9652\n",
      "Heat Dissipation Failure     112\n",
      "Power Failure                 95\n",
      "Overstrain Failure            78\n",
      "Tool Wear Failure             45\n",
      "Random Failures               18\n",
      "Name: count, dtype: int64\n"
     ]
    }
   ],
   "source": [
    "# --- 1. Load Data and Clean Column Names ---\n",
    "df_class = pd.read_csv('../data/raw/ai4i2020.csv')\n",
    "\n",
    "original_columns = df_class.columns\n",
    "new_columns = [col.replace('[K]', '').replace('[rpm]', '').replace('[Nm]', '').replace('[min]', '').strip().replace(' ', '_').lower() for col in original_columns]\n",
    "df_class.columns = new_columns\n",
    "\n",
    "# Drop useless ID columns\n",
    "df_class = df_class.drop(columns=['udi', 'product_id'])\n",
    "\n",
    "# Define the target mapping for multi-class classification\n",
    "# We will predict the specific failure type. 'No Failure' will be the majority class.\n",
    "y = df_class['failure_type']\n",
    "X = df_class.drop(columns=['target', 'failure_type']) # Drop both target columns\n",
    "\n",
    "print(\"Shape of X:\", X.shape)\n",
    "print(\"Shape of y:\", y.shape)\n",
    "print(\"\\nTarget Class Distribution:\")\n",
    "print(y.value_counts())"
   ]
  },
  {
   "cell_type": "code",
   "execution_count": 4,
   "id": "c317a01e-b41c-4456-abd9-cce248516815",
   "metadata": {},
   "outputs": [
    {
     "name": "stdout",
     "output_type": "stream",
     "text": [
      "Preprocessing pipeline created successfully.\n",
      "\n",
      "Numerical features to be scaled: ['air_temperature', 'process_temperature', 'rotational_speed', 'torque', 'tool_wear']\n",
      "Categorical features to be one-hot encoded: ['type']\n"
     ]
    }
   ],
   "source": [
    "# --- 2. Define Preprocessing Steps for Different Column Types ---\n",
    "\n",
    "# Identify categorical and numerical features\n",
    "categorical_features = ['type']\n",
    "numerical_features = X.select_dtypes(include=np.number).columns.tolist()\n",
    "\n",
    "# Create a preprocessing pipeline for numerical features (scaling)\n",
    "numeric_transformer = StandardScaler()\n",
    "\n",
    "# Create a preprocessing pipeline for categorical features (one-hot encoding)\n",
    "categorical_transformer = OneHotEncoder(handle_unknown='ignore')\n",
    "\n",
    "# Bundle preprocessing for numerical and categorical data\n",
    "preprocessor = ColumnTransformer(\n",
    "    transformers=[\n",
    "        ('num', numeric_transformer, numerical_features),\n",
    "        ('cat', categorical_transformer, categorical_features)\n",
    "    ],\n",
    "    remainder='passthrough' # Keep other columns if any (none in this case)\n",
    ")\n",
    "\n",
    "print(\"Preprocessing pipeline created successfully.\")\n",
    "print(\"\\nNumerical features to be scaled:\", numerical_features)\n",
    "print(\"Categorical features to be one-hot encoded:\", categorical_features)"
   ]
  },
  {
   "cell_type": "code",
   "execution_count": 5,
   "id": "f9188161-72c3-43de-818d-ebf4050e159a",
   "metadata": {},
   "outputs": [
    {
     "name": "stdout",
     "output_type": "stream",
     "text": [
      "Original training set shape: (8000, 6)\n",
      "Original training target distribution:\n",
      " failure_type\n",
      "No Failure                  7722\n",
      "Heat Dissipation Failure      90\n",
      "Power Failure                 76\n",
      "Overstrain Failure            62\n",
      "Tool Wear Failure             36\n",
      "Random Failures               14\n",
      "Name: count, dtype: int64\n",
      "\n",
      "==================================================\n",
      "\n"
     ]
    }
   ],
   "source": [
    "# --- 3. Split the Data ---\n",
    "X_train, X_test, y_train, y_test = train_test_split(X, y, test_size=0.2, random_state=42, stratify=y)\n",
    "\n",
    "print(\"Original training set shape:\", X_train.shape)\n",
    "print(\"Original training target distribution:\\n\", y_train.value_counts())\n",
    "print(\"\\n\" + \"=\"*50 + \"\\n\")"
   ]
  },
  {
   "cell_type": "code",
   "execution_count": 6,
   "id": "f5d51d8f-5d09-4519-8c79-77a2e6c55163",
   "metadata": {},
   "outputs": [],
   "source": [
    "# --- 4. Apply Preprocessing ---\n",
    "# Fit the preprocessor on the training data and transform both sets\n",
    "X_train_processed = preprocessor.fit_transform(X_train)\n",
    "X_test_processed = preprocessor.transform(X_test)\n"
   ]
  },
  {
   "cell_type": "code",
   "execution_count": 7,
   "id": "ac4d8c1c-5edb-46b9-8b5e-d2d9a214d02a",
   "metadata": {},
   "outputs": [
    {
     "name": "stdout",
     "output_type": "stream",
     "text": [
      "Applying SMOTE to the training data...\n",
      "\n",
      "Resampled training set shape: (46332, 8)\n",
      "Resampled training target distribution:\n",
      " failure_type\n",
      "No Failure                  7722\n",
      "Tool Wear Failure           7722\n",
      "Random Failures             7722\n",
      "Power Failure               7722\n",
      "Heat Dissipation Failure    7722\n",
      "Overstrain Failure          7722\n",
      "Name: count, dtype: int64\n",
      "\n",
      "==================================================\n",
      "\n"
     ]
    }
   ],
   "source": [
    "# --- 5. Apply SMOTE to the Processed Training Data ---\n",
    "print(\"Applying SMOTE to the training data...\")\n",
    "smote = SMOTE(random_state=42)\n",
    "X_train_resampled, y_train_resampled = smote.fit_resample(X_train_processed, y_train)\n",
    "\n",
    "print(\"\\nResampled training set shape:\", X_train_resampled.shape)\n",
    "print(\"Resampled training target distribution:\\n\", y_train_resampled.value_counts())\n",
    "print(\"\\n\" + \"=\"*50 + \"\\n\")"
   ]
  },
  {
   "cell_type": "code",
   "execution_count": 8,
   "id": "c6b531c3-e335-4a83-91da-ed7215634253",
   "metadata": {},
   "outputs": [
    {
     "name": "stdout",
     "output_type": "stream",
     "text": [
      "Training LightGBM model on resampled data...\n",
      "[LightGBM] [Info] Auto-choosing row-wise multi-threading, the overhead of testing was 0.001759 seconds.\n",
      "You can set `force_row_wise=true` to remove the overhead.\n",
      "And if memory is not enough, you can set `force_col_wise=true`.\n",
      "[LightGBM] [Info] Total Bins 2040\n",
      "[LightGBM] [Info] Number of data points in the train set: 46332, number of used features: 8\n",
      "[LightGBM] [Info] Start training from score -1.791759\n",
      "[LightGBM] [Info] Start training from score -1.791759\n",
      "[LightGBM] [Info] Start training from score -1.791759\n",
      "[LightGBM] [Info] Start training from score -1.791759\n",
      "[LightGBM] [Info] Start training from score -1.791759\n",
      "[LightGBM] [Info] Start training from score -1.791759\n",
      "Model training complete.\n"
     ]
    }
   ],
   "source": [
    "# --- 6. Train LightGBM Classifier ---\n",
    "print(\"Training LightGBM model on resampled data...\")\n",
    "lgb_clf = lgb.LGBMClassifier(random_state=42)\n",
    "lgb_clf.fit(X_train_resampled, y_train_resampled)\n",
    "\n",
    "print(\"Model training complete.\")\n"
   ]
  },
  {
   "cell_type": "code",
   "execution_count": 9,
   "id": "0ede7dc1-9137-4314-b7ec-193687ee185f",
   "metadata": {},
   "outputs": [
    {
     "name": "stdout",
     "output_type": "stream",
     "text": [
      "Evaluating model performance on the original, imbalanced test set...\n",
      "\n",
      "Classification Report:\n",
      "                          precision    recall  f1-score   support\n",
      "\n",
      "Heat Dissipation Failure       1.00      0.95      0.98        22\n",
      "              No Failure       0.99      0.99      0.99      1930\n",
      "      Overstrain Failure       0.79      0.94      0.86        16\n",
      "           Power Failure       0.84      0.84      0.84        19\n",
      "         Random Failures       0.00      0.00      0.00         4\n",
      "       Tool Wear Failure       0.00      0.00      0.00         9\n",
      "\n",
      "                accuracy                           0.98      2000\n",
      "               macro avg       0.60      0.62      0.61      2000\n",
      "            weighted avg       0.98      0.98      0.98      2000\n",
      "\n",
      "\n",
      "Confusion Matrix:\n"
     ]
    },
    {
     "name": "stderr",
     "output_type": "stream",
     "text": [
      "G:\\anaconda3\\Lib\\site-packages\\sklearn\\utils\\validation.py:2739: UserWarning: X does not have valid feature names, but LGBMClassifier was fitted with feature names\n",
      "  warnings.warn(\n"
     ]
    },
    {
     "data": {
      "image/png": "[encoded data removed]",
      "text/plain": [
       "<Figure size 1000x800 with 2 Axes>"
      ]
     },
     "metadata": {},
     "output_type": "display_data"
    }
   ],
   "source": [
    "# --- 7. Evaluate the Model on the Unseen Test Set ---\n",
    "print(\"Evaluating model performance on the original, imbalanced test set...\")\n",
    "\n",
    "# Make predictions\n",
    "y_pred_class = lgb_clf.predict(X_test_processed)\n",
    "\n",
    "# Get the unique class labels for plotting\n",
    "class_labels = sorted(y_train.unique())\n",
    "\n",
    "# --- Print Classification Report ---\n",
    "print(\"\\nClassification Report:\")\n",
    "print(classification_report(y_test, y_pred_class, target_names=class_labels))\n",
    "\n",
    "\n",
    "# --- Plot Confusion Matrix ---\n",
    "print(\"\\nConfusion Matrix:\")\n",
    "cm = confusion_matrix(y_test, y_pred_class, labels=class_labels)\n",
    "\n",
    "# Use ConfusionMatrixDisplay for a nice plot\n",
    "disp = ConfusionMatrixDisplay(confusion_matrix=cm, display_labels=class_labels)\n",
    "\n",
    "fig, ax = plt.subplots(figsize=(10, 8))\n",
    "disp.plot(ax=ax, cmap='Blues', xticks_rotation='vertical')\n",
    "plt.title('Confusion Matrix')\n",
    "plt.show()"
   ]
  },
  {
   "cell_type": "code",
   "execution_count": null,
   "id": "7d3a077f-1860-4d8b-b1e5-45eaf2c606ab",
   "metadata": {},
   "outputs": [],
   "source": []
  },
  {
   "cell_type": "code",
   "execution_count": null,
   "id": "be61dfd1-be5c-4de7-b865-584697de6d0f",
   "metadata": {},
   "outputs": [],
   "source": []
  },
  {
   "cell_type": "code",
   "execution_count": null,
   "id": "8c5532fa-c67a-41dd-98bc-1cbac9204051",
   "metadata": {},
   "outputs": [],
   "source": []
  },
  {
   "cell_type": "code",
   "execution_count": null,
   "id": "a6b905ee-5c3d-491a-b109-9e963e154b86",
   "metadata": {},
   "outputs": [],
   "source": []
  },
  {
   "cell_type": "code",
   "execution_count": null,
   "id": "f87e171b-7cb0-4e21-ba11-3a130c39c5cb",
   "metadata": {},
   "outputs": [],
   "source": []
  },
  {
   "cell_type": "code",
   "execution_count": null,
   "id": "faccf05a-4cb1-4b16-b44f-b267928c13d4",
   "metadata": {},
   "outputs": [],
   "source": []
  },
  {
   "cell_type": "code",
   "execution_count": null,
   "id": "1ae5cd39-bd47-4a96-a442-a2b9a0bd9cbb",
   "metadata": {},
   "outputs": [],
   "source": []
  }
 ],
 "metadata": {
  "kaggle": {
   "accelerator": "none",
   "dataSources": [
    {
     "datasetId": 1868601,
     "sourceId": 3051857,
     "sourceType": "datasetVersion"
    }
   ],
   "dockerImageVersionId": 30698,
   "isGpuEnabled": false,
   "isInternetEnabled": true,
   "language": "python",
   "sourceType": "notebook"
  },
  "kernelspec": {
   "display_name": "Python 3 (ipykernel)",
   "language": "python",
   "name": "python3"
  },
  "language_info": {
   "codemirror_mode": {
    "name": "ipython",
    "version": 3
   },
   "file_extension": ".py",
   "mimetype": "text/x-python",
   "name": "python",
   "nbconvert_exporter": "python",
   "pygments_lexer": "ipython3",
   "version": "3.12.7"
  },
  "papermill": {
   "default_parameters": {},
   "duration": 18.992652,
   "end_time": "2024-05-29T07:38:01.532462",
   "environment_variables": {},
   "exception": null,
   "input_path": "__notebook__.ipynb",
   "output_path": "__notebook__.ipynb",
   "parameters": {},
   "start_time": "2024-05-29T07:37:42.539810",
   "version": "2.5.0"
  }
 },
 "nbformat": 4,
 "nbformat_minor": 5
}
